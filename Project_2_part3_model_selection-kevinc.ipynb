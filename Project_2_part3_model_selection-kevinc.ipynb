{
 "cells": [
  {
   "cell_type": "markdown",
   "metadata": {
    "deletable": true,
    "editable": true
   },
   "source": [
    "# Model Selection"
   ]
  },
  {
   "cell_type": "code",
   "execution_count": 77,
   "metadata": {
    "collapsed": false,
    "deletable": true,
    "editable": true
   },
   "outputs": [],
   "source": [
    "import pandas as pd\n",
    "import numpy as np\n",
    "import matplotlib as mpl\n",
    "import matplotlib.pyplot as plt\n",
    "%matplotlib inline\n",
    "import seaborn as sns\n",
    "from os import chdir\n",
    "chdir('/home/jovyan/work/curriculum')\n",
    "import mglearn \n",
    "\n",
    "\n",
    "from IPython.display import display\n",
    "\n",
    "%matplotlib inline \n",
    "pd.options.display.precision = 4\n",
    "mpl.rcParams['font.family'] = 'Lato'\n",
    "mpl.rcParams['font.weight'] = 700\n",
    "sns.set(font='Lato', font_scale=1)\n",
    "sns.set()\n",
    "np.random.seed(42)"
   ]
  },
  {
   "cell_type": "markdown",
   "metadata": {
    "deletable": true,
    "editable": true
   },
   "source": [
    "# Model Selection\n",
    "\n",
    "Next, you will build a series of models. \n",
    "\n",
    "## Option 1:\n",
    "\n",
    "Pull in your deskewed pickle from notebook 1\n",
    "\n",
    "Two for Benchmarking:\n",
    "1. a KNN Model\n",
    "1. a Tree-like Model\n",
    "\n",
    "Two for Prediction:\n",
    "1. a scaled Grid-Searched KNN\n",
    "1. a scaled Tree-like Model\n",
    "\n",
    "## Option 2:\n",
    "\n",
    "Get a dataframe that has not yet been deskewed.\n",
    "\n",
    "Two for Benchmarking:\n",
    "1. a KNN Model\n",
    "1. a Tree-like Model\n",
    "1. (optional) use a Dummy Regressor\n",
    "\n",
    "Four for Prediction:\n",
    "1. a deskewed, scaled Grid-Searched KNN\n",
    "1. a deskewed, scaled Tree-like Model\n",
    "1. a scaled Grid-Searched KNN\n",
    "1. a scaled Tree-like Model\n",
    "\n",
    "Calculate Mean Test Scores on each the benchmarking and prediction models and present an analysis on these models. "
   ]
  },
  {
   "cell_type": "markdown",
   "metadata": {
    "deletable": true,
    "editable": true
   },
   "source": [
    "### Read in your pickled dataframes from Notebook 1"
   ]
  },
  {
   "cell_type": "code",
   "execution_count": 2,
   "metadata": {
    "collapsed": true,
    "deletable": true,
    "editable": true
   },
   "outputs": [],
   "source": [
    "import pickle"
   ]
  },
  {
   "cell_type": "code",
   "execution_count": 3,
   "metadata": {
    "collapsed": false,
    "deletable": true,
    "editable": true
   },
   "outputs": [],
   "source": [
    "house_prices_features = pd.read_pickle('pickled_feature_df')\n",
    "house_prices_target = pd.read_pickle('pickled_target_df')"
   ]
  },
  {
   "cell_type": "markdown",
   "metadata": {
    "deletable": true,
    "editable": true
   },
   "source": [
    "### One-Hot Encode Categorical Variables"
   ]
  },
  {
   "cell_type": "code",
   "execution_count": 4,
   "metadata": {
    "collapsed": false,
    "deletable": true,
    "editable": true
   },
   "outputs": [
    {
     "data": {
      "text/html": [
       "<div>\n",
       "<table border=\"1\" class=\"dataframe\">\n",
       "  <thead>\n",
       "    <tr style=\"text-align: right;\">\n",
       "      <th></th>\n",
       "      <th>alley</th>\n",
       "      <th>bedroomabvgr</th>\n",
       "      <th>bldgtype</th>\n",
       "      <th>bsmtcond</th>\n",
       "      <th>bsmtexposure</th>\n",
       "      <th>bsmtfinsf1</th>\n",
       "      <th>bsmtfinsf2</th>\n",
       "      <th>bsmtfintype1</th>\n",
       "      <th>bsmtfintype2</th>\n",
       "      <th>bsmtfullbath</th>\n",
       "      <th>...</th>\n",
       "      <th>totalbsmtsf</th>\n",
       "      <th>totrmsabvgrd</th>\n",
       "      <th>utilities</th>\n",
       "      <th>wooddecksf</th>\n",
       "      <th>yearbuilt</th>\n",
       "      <th>yearremodadd</th>\n",
       "      <th>yrsold</th>\n",
       "      <th>garagearea</th>\n",
       "      <th>lotfrontage</th>\n",
       "      <th>masvnrarea</th>\n",
       "    </tr>\n",
       "    <tr>\n",
       "      <th>id</th>\n",
       "      <th></th>\n",
       "      <th></th>\n",
       "      <th></th>\n",
       "      <th></th>\n",
       "      <th></th>\n",
       "      <th></th>\n",
       "      <th></th>\n",
       "      <th></th>\n",
       "      <th></th>\n",
       "      <th></th>\n",
       "      <th></th>\n",
       "      <th></th>\n",
       "      <th></th>\n",
       "      <th></th>\n",
       "      <th></th>\n",
       "      <th></th>\n",
       "      <th></th>\n",
       "      <th></th>\n",
       "      <th></th>\n",
       "      <th></th>\n",
       "      <th></th>\n",
       "    </tr>\n",
       "  </thead>\n",
       "  <tbody>\n",
       "    <tr>\n",
       "      <th>1</th>\n",
       "      <td>Grvl</td>\n",
       "      <td>3</td>\n",
       "      <td>1Fam</td>\n",
       "      <td>TA</td>\n",
       "      <td>No</td>\n",
       "      <td>706.0</td>\n",
       "      <td>0.0</td>\n",
       "      <td>GLQ</td>\n",
       "      <td>Unf</td>\n",
       "      <td>1</td>\n",
       "      <td>...</td>\n",
       "      <td>856.0</td>\n",
       "      <td>8</td>\n",
       "      <td>AllPub</td>\n",
       "      <td>0.0</td>\n",
       "      <td>2003.0</td>\n",
       "      <td>2003.0</td>\n",
       "      <td>2008</td>\n",
       "      <td>548.0</td>\n",
       "      <td>65.0</td>\n",
       "      <td>196.0</td>\n",
       "    </tr>\n",
       "    <tr>\n",
       "      <th>4</th>\n",
       "      <td>Grvl</td>\n",
       "      <td>3</td>\n",
       "      <td>1Fam</td>\n",
       "      <td>Gd</td>\n",
       "      <td>No</td>\n",
       "      <td>216.0</td>\n",
       "      <td>0.0</td>\n",
       "      <td>ALQ</td>\n",
       "      <td>Unf</td>\n",
       "      <td>1</td>\n",
       "      <td>...</td>\n",
       "      <td>756.0</td>\n",
       "      <td>7</td>\n",
       "      <td>AllPub</td>\n",
       "      <td>0.0</td>\n",
       "      <td>1915.0</td>\n",
       "      <td>1970.0</td>\n",
       "      <td>2006</td>\n",
       "      <td>642.0</td>\n",
       "      <td>60.0</td>\n",
       "      <td>0.0</td>\n",
       "    </tr>\n",
       "  </tbody>\n",
       "</table>\n",
       "<p>2 rows × 79 columns</p>\n",
       "</div>"
      ],
      "text/plain": [
       "   alley bedroomabvgr bldgtype bsmtcond bsmtexposure  bsmtfinsf1  bsmtfinsf2  \\\n",
       "id                                                                             \n",
       "1   Grvl            3     1Fam       TA           No       706.0         0.0   \n",
       "4   Grvl            3     1Fam       Gd           No       216.0         0.0   \n",
       "\n",
       "   bsmtfintype1 bsmtfintype2 bsmtfullbath    ...     totalbsmtsf totrmsabvgrd  \\\n",
       "id                                           ...                                \n",
       "1           GLQ          Unf            1    ...           856.0            8   \n",
       "4           ALQ          Unf            1    ...           756.0            7   \n",
       "\n",
       "    utilities wooddecksf yearbuilt yearremodadd yrsold  garagearea  \\\n",
       "id                                                                   \n",
       "1      AllPub        0.0    2003.0       2003.0   2008       548.0   \n",
       "4      AllPub        0.0    1915.0       1970.0   2006       642.0   \n",
       "\n",
       "   lotfrontage masvnrarea  \n",
       "id                         \n",
       "1         65.0      196.0  \n",
       "4         60.0        0.0  \n",
       "\n",
       "[2 rows x 79 columns]"
      ]
     },
     "execution_count": 4,
     "metadata": {},
     "output_type": "execute_result"
    }
   ],
   "source": [
    "house_prices_features.head(2)"
   ]
  },
  {
   "cell_type": "code",
   "execution_count": 5,
   "metadata": {
    "collapsed": false,
    "deletable": true,
    "editable": true
   },
   "outputs": [
    {
     "data": {
      "text/plain": [
       "Index(['alley', 'bedroomabvgr', 'bldgtype', 'bsmtcond', 'bsmtexposure',\n",
       "       'bsmtfinsf1', 'bsmtfinsf2', 'bsmtfintype1', 'bsmtfintype2',\n",
       "       'bsmtfullbath', 'bsmthalfbath', 'bsmtqual', 'bsmtunfsf', 'centralair',\n",
       "       'condition1', 'condition2', 'electrical', 'enclosedporch', 'extercond',\n",
       "       'exterior1st', 'exterior2nd', 'exterqual', 'fence', 'fireplacequ',\n",
       "       'fireplaces', 'firstflrsf', 'foundation', 'fullbath', 'functional',\n",
       "       'garagecars', 'garagecond', 'garagefinish', 'garagequal', 'garagetype',\n",
       "       'garageyrblt', 'grlivarea', 'halfbath', 'heating', 'heatingqc',\n",
       "       'housestyle', 'kitchenabvgr', 'kitchenqual', 'landcontour', 'landslope',\n",
       "       'lotarea', 'lotconfig', 'lotshape', 'lowqualfinsf', 'masvnrtype',\n",
       "       'miscfeature', 'miscval', 'mosold', 'mssubclass', 'mszoning',\n",
       "       'neighborhood', 'openporchsf', 'overallcond', 'overallqual',\n",
       "       'paveddrive', 'poolarea', 'poolqc', 'roofmatl', 'roofstyle',\n",
       "       'salecondition', 'saletype', 'screenporch', 'secondflrsf', 'street',\n",
       "       'threessnporch', 'totalbsmtsf', 'totrmsabvgrd', 'utilities',\n",
       "       'wooddecksf', 'yearbuilt', 'yearremodadd', 'yrsold', 'garagearea',\n",
       "       'lotfrontage', 'masvnrarea'],\n",
       "      dtype='object')"
      ]
     },
     "execution_count": 5,
     "metadata": {},
     "output_type": "execute_result"
    }
   ],
   "source": [
    "house_prices_features.columns"
   ]
  },
  {
   "cell_type": "code",
   "execution_count": 6,
   "metadata": {
    "collapsed": false,
    "deletable": true,
    "editable": true
   },
   "outputs": [],
   "source": [
    "house_prices_cat = house_prices_features.drop(['garagearea','masvnrarea','lotfrontage'], \n",
    "                                              axis=1)"
   ]
  },
  {
   "cell_type": "code",
   "execution_count": 7,
   "metadata": {
    "collapsed": false,
    "deletable": true,
    "editable": true
   },
   "outputs": [
    {
     "data": {
      "text/html": [
       "<div>\n",
       "<table border=\"1\" class=\"dataframe\">\n",
       "  <thead>\n",
       "    <tr style=\"text-align: right;\">\n",
       "      <th></th>\n",
       "      <th>bsmtfinsf1</th>\n",
       "      <th>bsmtfinsf2</th>\n",
       "      <th>bsmtunfsf</th>\n",
       "      <th>enclosedporch</th>\n",
       "      <th>firstflrsf</th>\n",
       "      <th>garageyrblt</th>\n",
       "      <th>grlivarea</th>\n",
       "      <th>lotarea</th>\n",
       "      <th>lowqualfinsf</th>\n",
       "      <th>miscval</th>\n",
       "      <th>...</th>\n",
       "      <th>totrmsabvgrd_10</th>\n",
       "      <th>totrmsabvgrd_11</th>\n",
       "      <th>totrmsabvgrd_12</th>\n",
       "      <th>utilities_AllPub</th>\n",
       "      <th>utilities_NoSeWa</th>\n",
       "      <th>yrsold_2006</th>\n",
       "      <th>yrsold_2007</th>\n",
       "      <th>yrsold_2008</th>\n",
       "      <th>yrsold_2009</th>\n",
       "      <th>yrsold_2010</th>\n",
       "    </tr>\n",
       "    <tr>\n",
       "      <th>id</th>\n",
       "      <th></th>\n",
       "      <th></th>\n",
       "      <th></th>\n",
       "      <th></th>\n",
       "      <th></th>\n",
       "      <th></th>\n",
       "      <th></th>\n",
       "      <th></th>\n",
       "      <th></th>\n",
       "      <th></th>\n",
       "      <th></th>\n",
       "      <th></th>\n",
       "      <th></th>\n",
       "      <th></th>\n",
       "      <th></th>\n",
       "      <th></th>\n",
       "      <th></th>\n",
       "      <th></th>\n",
       "      <th></th>\n",
       "      <th></th>\n",
       "      <th></th>\n",
       "    </tr>\n",
       "  </thead>\n",
       "  <tbody>\n",
       "    <tr>\n",
       "      <th>1</th>\n",
       "      <td>706.0</td>\n",
       "      <td>0.0</td>\n",
       "      <td>150.0</td>\n",
       "      <td>0.0</td>\n",
       "      <td>856.0</td>\n",
       "      <td>2003.0</td>\n",
       "      <td>1710.0</td>\n",
       "      <td>8450.0</td>\n",
       "      <td>0.0</td>\n",
       "      <td>0.0</td>\n",
       "      <td>...</td>\n",
       "      <td>0</td>\n",
       "      <td>0</td>\n",
       "      <td>0</td>\n",
       "      <td>1</td>\n",
       "      <td>0</td>\n",
       "      <td>0</td>\n",
       "      <td>0</td>\n",
       "      <td>1</td>\n",
       "      <td>0</td>\n",
       "      <td>0</td>\n",
       "    </tr>\n",
       "    <tr>\n",
       "      <th>4</th>\n",
       "      <td>216.0</td>\n",
       "      <td>0.0</td>\n",
       "      <td>540.0</td>\n",
       "      <td>272.0</td>\n",
       "      <td>961.0</td>\n",
       "      <td>1998.0</td>\n",
       "      <td>1717.0</td>\n",
       "      <td>9550.0</td>\n",
       "      <td>0.0</td>\n",
       "      <td>0.0</td>\n",
       "      <td>...</td>\n",
       "      <td>0</td>\n",
       "      <td>0</td>\n",
       "      <td>0</td>\n",
       "      <td>1</td>\n",
       "      <td>0</td>\n",
       "      <td>1</td>\n",
       "      <td>0</td>\n",
       "      <td>0</td>\n",
       "      <td>0</td>\n",
       "      <td>0</td>\n",
       "    </tr>\n",
       "  </tbody>\n",
       "</table>\n",
       "<p>2 rows × 368 columns</p>\n",
       "</div>"
      ],
      "text/plain": [
       "    bsmtfinsf1  bsmtfinsf2  bsmtunfsf  enclosedporch  firstflrsf  garageyrblt  \\\n",
       "id                                                                              \n",
       "1        706.0         0.0      150.0            0.0       856.0       2003.0   \n",
       "4        216.0         0.0      540.0          272.0       961.0       1998.0   \n",
       "\n",
       "    grlivarea  lotarea  lowqualfinsf  miscval     ...       totrmsabvgrd_10  \\\n",
       "id                                                ...                         \n",
       "1      1710.0   8450.0           0.0      0.0     ...                     0   \n",
       "4      1717.0   9550.0           0.0      0.0     ...                     0   \n",
       "\n",
       "    totrmsabvgrd_11  totrmsabvgrd_12  utilities_AllPub  utilities_NoSeWa  \\\n",
       "id                                                                         \n",
       "1                 0                0                 1                 0   \n",
       "4                 0                0                 1                 0   \n",
       "\n",
       "    yrsold_2006  yrsold_2007  yrsold_2008  yrsold_2009  yrsold_2010  \n",
       "id                                                                   \n",
       "1             0            0            1            0            0  \n",
       "4             1            0            0            0            0  \n",
       "\n",
       "[2 rows x 368 columns]"
      ]
     },
     "execution_count": 7,
     "metadata": {},
     "output_type": "execute_result"
    }
   ],
   "source": [
    "house_prices_dummies = pd.get_dummies(house_prices_cat)\n",
    "house_prices_dummies.head(2)"
   ]
  },
  {
   "cell_type": "markdown",
   "metadata": {
    "deletable": true,
    "editable": true
   },
   "source": [
    "# Model Selection\n",
    "\n",
    "Next, you will build a series of models. \n",
    "\n",
    "## Option 1:\n",
    "\n",
    "Pull in your deskewed pickle from notebook 1\n",
    "\n",
    "Two for Benchmarking:\n",
    "1. a KNN Model\n",
    "1. a Tree-like Model\n",
    "\n",
    "Two for Prediction:\n",
    "1. a scaled Grid-Searched KNN\n",
    "1. a scaled Tree-like Model\n",
    "\n",
    "\n",
    "# 2\n",
    "Two for Benchmarking:\n",
    "1. a scaled KNN Model\n",
    "1. a scaled Tree-like Model\n",
    "\n",
    "Four for Prediction:\n",
    "1. a scaled, Grid-Searched KNN\n",
    "1. a scaled, Grid-Searched Tree-like Model\n",
    "1. a deskewed, scaled Grid-Searched KNN\n",
    "1. a deskewed, scaled Tree-like Model\n",
    "\n",
    "Calculate Mean Test Scores on each the benchmarking and prediction models and present an analysis on these models. \n",
    "\n",
    "<div style=\"float: left\">\n",
    "<img src=\"http://interactive.blockdiag.com/image?compression=deflate&encoding=base64&src=eJxLyslPzk7JTExXqOZSUChOTsxJVdC1U1D39vNTUDa0UojJCwaJpQAZAc6O6taYioxAihTgqtyLMlN0g1MTi5IzgHygCjQ9IUWpqbo5mdmpCsrG-HSC1AG11gIABDUwYQ\" width=380px style=\"float: left\"><img src=\"http://interactive.blockdiag.com/image?compression=deflate&encoding=base64&src=eJxLyslPzk7JTExXqOZSUEhJLc5OLVfQtVMoTk7MSbUGCoEZIBF1bz8_BWUTK4WYPBewstQUhWCQZApQJMDZUR2LalMU1Qjl7kWZKbrBqYlFyRlAPlApmuaQotRU3ZzM7FQFZTOijABpAJpRCwCkXUAJ\" width=500px style=\"float: left\">\n",
    "</div>"
   ]
  },
  {
   "cell_type": "markdown",
   "metadata": {
    "deletable": true,
    "editable": true
   },
   "source": [
    "Use this template:\n",
    "\n",
    "        gs_params = {}\n",
    "        model_1 = GridSearchCV(ModelClass(), cv=5,\n",
    "                               param_grid=gs_params)\n",
    "        model_1.fit(X_set, y_train)\n",
    "        display(pd.DataFrame(model_1.cv_results_))\n",
    "        print(model_1.cv_results_['mean_test_score'])"
   ]
  },
  {
   "cell_type": "code",
   "execution_count": 106,
   "metadata": {
    "collapsed": false,
    "deletable": true,
    "editable": true
   },
   "outputs": [],
   "source": [
    "from sklearn.preprocessing import StandardScaler\n",
    "from sklearn.model_selection import train_test_split, cross_val_score, GridSearchCV\n",
    "from sklearn.neighbors import KNeighborsRegressor\n",
    "from sklearn.tree import DecisionTreeRegressor\n",
    "from sklearn.model_selection import ShuffleSplit"
   ]
  },
  {
   "cell_type": "code",
   "execution_count": 9,
   "metadata": {
    "collapsed": false,
    "deletable": true,
    "editable": true
   },
   "outputs": [],
   "source": [
    "scaler = StandardScaler()"
   ]
  },
  {
   "cell_type": "code",
   "execution_count": 10,
   "metadata": {
    "collapsed": true,
    "deletable": true,
    "editable": true
   },
   "outputs": [],
   "source": [
    "shuffle_split = ShuffleSplit(test_size=.3, train_size=.7, n_splits=10)"
   ]
  },
  {
   "cell_type": "code",
   "execution_count": 11,
   "metadata": {
    "collapsed": false,
    "deletable": true,
    "editable": true
   },
   "outputs": [],
   "source": [
    "X_train, X_test, y_train, y_test = train_test_split(house_prices_dummies, house_prices_target,\n",
    "                                                    test_size=.3, train_size=.7,\n",
    "                                                   random_state=42,\n",
    "                                                    )"
   ]
  },
  {
   "cell_type": "code",
   "execution_count": 12,
   "metadata": {
    "collapsed": false,
    "deletable": true,
    "editable": true
   },
   "outputs": [],
   "source": [
    "X_train_scaled = scaler.fit_transform(X_train)\n",
    "X_test_scaled = scaler.transform(X_test)"
   ]
  },
  {
   "cell_type": "code",
   "execution_count": 13,
   "metadata": {
    "collapsed": true,
    "deletable": true,
    "editable": true
   },
   "outputs": [],
   "source": [
    "knr = KNeighborsRegressor()"
   ]
  },
  {
   "cell_type": "code",
   "execution_count": 15,
   "metadata": {
    "collapsed": false,
    "deletable": true,
    "editable": true
   },
   "outputs": [
    {
     "name": "stdout",
     "output_type": "stream",
     "text": [
      "Train set score: 0.77\n",
      "Test set score: 0.60\n"
     ]
    }
   ],
   "source": [
    "knnbenchmark = knr.fit(X_train, y_train)\n",
    "print(\"Train set score: {:.2f}\".format(knnbenchmark.score(X_train, y_train)))\n",
    "print(\"Test set score: {:.2f}\".format(knnbenchmark.score(X_test, y_test)))"
   ]
  },
  {
   "cell_type": "code",
   "execution_count": 16,
   "metadata": {
    "collapsed": false,
    "deletable": true,
    "editable": true
   },
   "outputs": [
    {
     "name": "stdout",
     "output_type": "stream",
     "text": [
      "Train set score: 1.00\n",
      "Test set score: 0.77\n"
     ]
    }
   ],
   "source": [
    "treebenchmark = DecisionTreeRegressor().fit(X_train, y_train)\n",
    "print(\"Train set score: {:.2f}\".format(treebenchmark.score(X_train, y_train)))\n",
    "print(\"Test set score: {:.2f}\".format(treebenchmark.score(X_test, y_test)))"
   ]
  },
  {
   "cell_type": "code",
   "execution_count": 17,
   "metadata": {
    "collapsed": true,
    "deletable": true,
    "editable": true
   },
   "outputs": [],
   "source": [
    "from sklearn.ensemble import ExtraTreesClassifier"
   ]
  },
  {
   "cell_type": "code",
   "execution_count": 102,
   "metadata": {
    "collapsed": true,
    "deletable": true,
    "editable": true
   },
   "outputs": [],
   "source": [
    "etparams = {\n",
    "    'bootstrap':[True],\n",
    "    'n_estimators':[11,23,31,41,51,61,47]\n",
    "}"
   ]
  },
  {
   "cell_type": "code",
   "execution_count": 103,
   "metadata": {
    "collapsed": false,
    "deletable": true,
    "editable": true
   },
   "outputs": [],
   "source": [
    "et_gs = GridSearchCV(ExtraTreesClassifier(), param_grid=etparams, cv=shuffle_split, n_jobs=-1)"
   ]
  },
  {
   "cell_type": "code",
   "execution_count": 104,
   "metadata": {
    "collapsed": false,
    "deletable": true,
    "editable": true
   },
   "outputs": [
    {
     "name": "stdout",
     "output_type": "stream",
     "text": [
      "Train set score: 0.02\n",
      "Test set score: 0.02\n"
     ]
    }
   ],
   "source": [
    "et_gs.fit(X_train, y_train)\n",
    "print(\"Train set score: {:.2f}\".format(et_gs.score(X_test, y_test)))\n",
    "print(\"Test set score: {:.2f}\".format(et_gs.score(X_test, y_test)))"
   ]
  },
  {
   "cell_type": "code",
   "execution_count": 35,
   "metadata": {
    "collapsed": true,
    "deletable": true,
    "editable": true
   },
   "outputs": [],
   "source": [
    "knparams = {\n",
    "    'n_neighbors':[1,3,5,7]\n",
    "}"
   ]
  },
  {
   "cell_type": "code",
   "execution_count": 36,
   "metadata": {
    "collapsed": false,
    "deletable": true,
    "editable": true
   },
   "outputs": [],
   "source": [
    "knr_gs = GridSearchCV(KNeighborsRegressor(), param_grid=knparams, cv=shuffle_split)"
   ]
  },
  {
   "cell_type": "code",
   "execution_count": 37,
   "metadata": {
    "collapsed": false,
    "deletable": true,
    "editable": true
   },
   "outputs": [
    {
     "name": "stdout",
     "output_type": "stream",
     "text": [
      "Train set score: 0.77\n",
      "Test set score: 0.60\n"
     ]
    }
   ],
   "source": [
    "knr_gs.fit(X_train, y_train)\n",
    "print(\"Train set score: {:.2f}\".format(knr_gs.score(X_train, y_train)))\n",
    "print(\"Test set score: {:.2f}\".format(knr_gs.score(X_test, y_test)))"
   ]
  },
  {
   "cell_type": "markdown",
   "metadata": {
    "deletable": true,
    "editable": true
   },
   "source": [
    "## Model Complexity Evaluation\n",
    "\n",
    "1. Train a grid searched Decision Tree using a range of `max_depth`. \n",
    "1. Obtain the `cv_results_` from the `GridSearchCV` object.\n",
    "1. Prepare a plot of `mean_train_score` against `max_depth` and `mean_test_score` against `max_depth` on the same plot. "
   ]
  },
  {
   "cell_type": "code",
   "execution_count": 69,
   "metadata": {
    "collapsed": false,
    "deletable": true,
    "editable": true
   },
   "outputs": [],
   "source": [
    "dtrparams = {\n",
    "    'criterion' : ['mse'], \n",
    "    'max_depth' : [None], \n",
    "    'max_features' : [None],\n",
    "    'max_leaf_nodes' : [None], \n",
    "    'min_impurity_split' : [1e-07],\n",
    "    'min_samples_leaf' : [1], \n",
    "    'min_samples_split' : [2],\n",
    "    'min_weight_fraction_leaf' : [0.0], \n",
    "    'presort' : [False], \n",
    "    'random_state' : [None],\n",
    "    'splitter' : ['best']\n",
    "}"
   ]
  },
  {
   "cell_type": "code",
   "execution_count": 70,
   "metadata": {
    "collapsed": false,
    "deletable": true,
    "editable": true
   },
   "outputs": [],
   "source": [
    "dtr_gs = GridSearchCV(DecisionTreeRegressor(), param_grid=dtrparams, cv=shuffle_split)"
   ]
  },
  {
   "cell_type": "code",
   "execution_count": 71,
   "metadata": {
    "collapsed": false
   },
   "outputs": [
    {
     "data": {
      "text/plain": [
       "GridSearchCV(cv=ShuffleSplit(n_splits=10, random_state=None, test_size=0.3, train_size=0.7),\n",
       "       error_score='raise',\n",
       "       estimator=DecisionTreeRegressor(criterion='mse', max_depth=None, max_features=None,\n",
       "           max_leaf_nodes=None, min_impurity_split=1e-07,\n",
       "           min_samples_leaf=1, min_samples_split=2,\n",
       "           min_weight_fraction_leaf=0.0, presort=False, random_state=None,\n",
       "           splitter='best'),\n",
       "       fit_params={}, iid=True, n_jobs=1,\n",
       "       param_grid={'min_impurity_split': [1e-07], 'random_state': [None], 'criterion': ['mse'], 'max_features': [None], 'min_samples_split': [2], 'min_samples_leaf': [1], 'presort': [False], 'splitter': ['best'], 'max_leaf_nodes': [None], 'max_depth': [None], 'min_weight_fraction_leaf': [0.0]},\n",
       "       pre_dispatch='2*n_jobs', refit=True, return_train_score=True,\n",
       "       scoring=None, verbose=0)"
      ]
     },
     "execution_count": 71,
     "metadata": {},
     "output_type": "execute_result"
    }
   ],
   "source": [
    "dtr_gs.fit(X_train, y_train)"
   ]
  },
  {
   "cell_type": "code",
   "execution_count": 72,
   "metadata": {
    "collapsed": false
   },
   "outputs": [
    {
     "name": "stdout",
     "output_type": "stream",
     "text": [
      "Best parameters: {'min_impurity_split': 1e-07, 'random_state': None, 'criterion': 'mse', 'max_features': None, 'min_samples_split': 2, 'min_samples_leaf': 1, 'presort': False, 'splitter': 'best', 'max_leaf_nodes': None, 'max_depth': None, 'min_weight_fraction_leaf': 0.0}\n",
      "Best cross-validation score: 0.62\n",
      "Best estimator:DecisionTreeRegressor(criterion='mse', max_depth=None, max_features=None,\n",
      "           max_leaf_nodes=None, min_impurity_split=1e-07,\n",
      "           min_samples_leaf=1, min_samples_split=2,\n",
      "           min_weight_fraction_leaf=0.0, presort=False, random_state=None,\n",
      "           splitter='best')\n"
     ]
    }
   ],
   "source": [
    "print(\"Best parameters: {}\".format(dtr_gs.best_params_))\n",
    "print(\"Best cross-validation score: {:.2f}\".format(dtr_gs.best_score_))\n",
    "print(\"Best estimator:{}\".format(dtr_gs.best_estimator_))"
   ]
  },
  {
   "cell_type": "code",
   "execution_count": 85,
   "metadata": {
    "collapsed": false,
    "deletable": true,
    "editable": true
   },
   "outputs": [],
   "source": [
    "results = pd.DataFrame(dtr_gs.cv_results_)"
   ]
  },
  {
   "cell_type": "code",
   "execution_count": 87,
   "metadata": {
    "collapsed": false
   },
   "outputs": [
    {
     "data": {
      "text/html": [
       "<div>\n",
       "<table border=\"1\" class=\"dataframe\">\n",
       "  <thead>\n",
       "    <tr style=\"text-align: right;\">\n",
       "      <th></th>\n",
       "      <th>mean_fit_time</th>\n",
       "      <th>mean_score_time</th>\n",
       "      <th>mean_test_score</th>\n",
       "      <th>mean_train_score</th>\n",
       "      <th>param_criterion</th>\n",
       "      <th>param_max_depth</th>\n",
       "      <th>param_max_features</th>\n",
       "      <th>param_max_leaf_nodes</th>\n",
       "      <th>param_min_impurity_split</th>\n",
       "      <th>param_min_samples_leaf</th>\n",
       "      <th>...</th>\n",
       "      <th>split7_test_score</th>\n",
       "      <th>split7_train_score</th>\n",
       "      <th>split8_test_score</th>\n",
       "      <th>split8_train_score</th>\n",
       "      <th>split9_test_score</th>\n",
       "      <th>split9_train_score</th>\n",
       "      <th>std_fit_time</th>\n",
       "      <th>std_score_time</th>\n",
       "      <th>std_test_score</th>\n",
       "      <th>std_train_score</th>\n",
       "    </tr>\n",
       "  </thead>\n",
       "  <tbody>\n",
       "    <tr>\n",
       "      <th>0</th>\n",
       "      <td>0.0226</td>\n",
       "      <td>0.0013</td>\n",
       "      <td>0.6166</td>\n",
       "      <td>1.0</td>\n",
       "      <td>mse</td>\n",
       "      <td>None</td>\n",
       "      <td>None</td>\n",
       "      <td>None</td>\n",
       "      <td>1e-07</td>\n",
       "      <td>1</td>\n",
       "      <td>...</td>\n",
       "      <td>0.6177</td>\n",
       "      <td>1.0</td>\n",
       "      <td>0.6814</td>\n",
       "      <td>1.0</td>\n",
       "      <td>0.6758</td>\n",
       "      <td>1.0</td>\n",
       "      <td>0.0034</td>\n",
       "      <td>0.001</td>\n",
       "      <td>0.0798</td>\n",
       "      <td>0.0</td>\n",
       "    </tr>\n",
       "  </tbody>\n",
       "</table>\n",
       "<p>1 rows × 41 columns</p>\n",
       "</div>"
      ],
      "text/plain": [
       "   mean_fit_time  mean_score_time  mean_test_score  mean_train_score  \\\n",
       "0         0.0226           0.0013           0.6166               1.0   \n",
       "\n",
       "  param_criterion param_max_depth param_max_features param_max_leaf_nodes  \\\n",
       "0             mse            None               None                 None   \n",
       "\n",
       "  param_min_impurity_split param_min_samples_leaf       ...         \\\n",
       "0                    1e-07                      1       ...          \n",
       "\n",
       "  split7_test_score split7_train_score split8_test_score split8_train_score  \\\n",
       "0            0.6177                1.0            0.6814                1.0   \n",
       "\n",
       "  split9_test_score split9_train_score  std_fit_time  std_score_time  \\\n",
       "0            0.6758                1.0        0.0034           0.001   \n",
       "\n",
       "   std_test_score  std_train_score  \n",
       "0          0.0798              0.0  \n",
       "\n",
       "[1 rows x 41 columns]"
      ]
     },
     "execution_count": 87,
     "metadata": {},
     "output_type": "execute_result"
    }
   ],
   "source": [
    "results"
   ]
  },
  {
   "cell_type": "code",
   "execution_count": 98,
   "metadata": {
    "collapsed": false,
    "deletable": true,
    "editable": true
   },
   "outputs": [
    {
     "data": {
      "text/plain": [
       "[]"
      ]
     },
     "execution_count": 98,
     "metadata": {},
     "output_type": "execute_result"
    },
    {
     "data": {
      "image/png": "[encoded data removed]",
      "text/plain": [
       "<matplotlib.figure.Figure at 0x7f61e3ea0da0>"
      ]
     },
     "metadata": {},
     "output_type": "display_data"
    }
   ],
   "source": [
    "scores = np.array(results.mean_train_score).reshape(1, 1)\n",
    "\n",
    "plt.plot(xlabel='mean_test_score', xticklabels=results['mean_test_score'],\n",
    "                      ylabel='mean_train_score', yticklabels=results['mean_train_score'], \n",
    "                      cmap=\"viridis\")"
   ]
  },
  {
   "cell_type": "markdown",
   "metadata": {
    "deletable": true,
    "editable": true
   },
   "source": [
    "### Analysis\n",
    "\n",
    "Considering this model complexity plot, describe the training and testing errors as the max depth increases. Based on your interpretation of the graph, which max depth results in a model that best generalizes the dataset? Why?"
   ]
  },
  {
   "cell_type": "markdown",
   "metadata": {},
   "source": [
    "### Training and Testing Errors:\n",
    "As the max depth increases, the mean error for both training and testing sets seem to increase. "
   ]
  },
  {
   "cell_type": "markdown",
   "metadata": {
    "deletable": true,
    "editable": true
   },
   "source": [
    "What is the grid search algorithm and when is it applicable? What is cross-validation, and how is it performed on a model? Why would cross-validation be helpful when using grid search?"
   ]
  },
  {
   "cell_type": "markdown",
   "metadata": {},
   "source": [
    "The grid search algorithm searches across multiple folds of data, and searches for the best paramters for a chosen model. Cross validation is leaving a piece of data out, and having a model iterate over the rest of the data, then iterating over the held out data. Cross validation is helpful when using a grid search, because without it, our model might fail to predict anything on unseen data. "
   ]
  },
  {
   "cell_type": "markdown",
   "metadata": {
    "deletable": true,
    "editable": true
   },
   "source": [
    "### Prediction\n",
    "\n",
    "Choose a model you have developed in this workbook that you believe will best generalize. Provide a statement here as to why you think it will generalize best. Pickle the model and upload to github along with this notebook."
   ]
  },
  {
   "cell_type": "markdown",
   "metadata": {
    "collapsed": true,
    "deletable": true,
    "editable": true
   },
   "source": [
    "I thought initially that throwing a less oft-used model like Extra Trees at the data would yield that best prediction. However, KNeighbors with no parameter tuning received the highest score here."
   ]
  },
  {
   "cell_type": "code",
   "execution_count": 111,
   "metadata": {
    "collapsed": false
   },
   "outputs": [
    {
     "ename": "PandasError",
     "evalue": "DataFrame constructor not properly called!",
     "output_type": "error",
     "traceback": [
      "\u001b[0;31m---------------------------------------------------------------------------\u001b[0m",
      "\u001b[0;31mPandasError\u001b[0m                               Traceback (most recent call last)",
      "\u001b[0;32m<ipython-input-111-20efcc1d432a>\u001b[0m in \u001b[0;36m<module>\u001b[0;34m()\u001b[0m\n\u001b[0;32m----> 1\u001b[0;31m \u001b[0mknr_gs_pickled\u001b[0m \u001b[0;34m=\u001b[0m \u001b[0mpd\u001b[0m\u001b[0;34m.\u001b[0m\u001b[0mDataFrame\u001b[0m\u001b[0;34m(\u001b[0m\u001b[0mknr_gs\u001b[0m\u001b[0;34m)\u001b[0m\u001b[0;34m.\u001b[0m\u001b[0mto_pickle\u001b[0m\u001b[0;34m(\u001b[0m\u001b[0;34m\"knr_gs\"\u001b[0m\u001b[0;34m)\u001b[0m\u001b[0;34m\u001b[0m\u001b[0m\n\u001b[0m",
      "\u001b[0;32m/opt/conda/lib/python3.5/site-packages/pandas/core/frame.py\u001b[0m in \u001b[0;36m__init__\u001b[0;34m(self, data, index, columns, dtype, copy)\u001b[0m\n\u001b[1;32m    343\u001b[0m                                          copy=False)\n\u001b[1;32m    344\u001b[0m             \u001b[0;32melse\u001b[0m\u001b[0;34m:\u001b[0m\u001b[0;34m\u001b[0m\u001b[0m\n\u001b[0;32m--> 345\u001b[0;31m                 \u001b[0;32mraise\u001b[0m \u001b[0mPandasError\u001b[0m\u001b[0;34m(\u001b[0m\u001b[0;34m'DataFrame constructor not properly called!'\u001b[0m\u001b[0;34m)\u001b[0m\u001b[0;34m\u001b[0m\u001b[0m\n\u001b[0m\u001b[1;32m    346\u001b[0m \u001b[0;34m\u001b[0m\u001b[0m\n\u001b[1;32m    347\u001b[0m         \u001b[0mNDFrame\u001b[0m\u001b[0;34m.\u001b[0m\u001b[0m__init__\u001b[0m\u001b[0;34m(\u001b[0m\u001b[0mself\u001b[0m\u001b[0;34m,\u001b[0m \u001b[0mmgr\u001b[0m\u001b[0;34m,\u001b[0m \u001b[0mfastpath\u001b[0m\u001b[0;34m=\u001b[0m\u001b[0;32mTrue\u001b[0m\u001b[0;34m)\u001b[0m\u001b[0;34m\u001b[0m\u001b[0m\n",
      "\u001b[0;31mPandasError\u001b[0m: DataFrame constructor not properly called!"
     ]
    }
   ],
   "source": [
    "knr_gs_pickled = pd.DataFrame(knr_gs).to_pickle(\"knr_gs\")"
   ]
  },
  {
   "cell_type": "code",
   "execution_count": null,
   "metadata": {
    "collapsed": true
   },
   "outputs": [],
   "source": []
  }
 ],
 "metadata": {
  "kernelspec": {
   "display_name": "Python 3",
   "language": "python",
   "name": "python3"
  },
  "language_info": {
   "codemirror_mode": {
    "name": "ipython",
    "version": 3
   },
   "file_extension": ".py",
   "mimetype": "text/x-python",
   "name": "python",
   "nbconvert_exporter": "python",
   "pygments_lexer": "ipython3",
   "version": "3.5.2"
  }
 },
 "nbformat": 4,
 "nbformat_minor": 2
}
